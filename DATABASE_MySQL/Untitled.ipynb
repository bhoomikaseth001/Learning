{
 "cells": [
  {
   "cell_type": "code",
   "execution_count": 22,
   "id": "2d355b17-7d0d-4daa-bd76-24825fe3003b",
   "metadata": {},
   "outputs": [],
   "source": [
    "#import libraries\n",
    "import mysql.connector\n",
    "from mysql.connector import connect, Error\n",
    "import pandas as pd"
   ]
  },
  {
   "cell_type": "code",
   "execution_count": 23,
   "id": "ec72885e-c123-4f4d-8925-90243398d5dc",
   "metadata": {},
   "outputs": [
    {
     "name": "stdout",
     "output_type": "stream",
     "text": [
      "MySQL database connection successful\n"
     ]
    }
   ],
   "source": [
    "def create_server_connection(host_name, user_name, user_password):\n",
    "    connection = None\n",
    "    try: \n",
    "        connection = mysql.connector.connect(\n",
    "            host = host_name, \n",
    "            user = user_name,\n",
    "            passwd=user_password\n",
    "        )\n",
    "        print(\"MySQL database connection successful\")\n",
    "    except Error as err:\n",
    "        print(f\"Error: '{err}'\")\n",
    "    return connection\n",
    "\n",
    "pw = \"B@0112\"  #MySQL password\n",
    "db = \"bhoomika_db\"  #database name\n",
    "connection = create_server_connection(\"localhost\", \"root\", pw)"
   ]
  },
  {
   "cell_type": "code",
   "execution_count": 24,
   "id": "0b58512f-7ba7-4111-b28b-092696286e3a",
   "metadata": {},
   "outputs": [
    {
     "name": "stdout",
     "output_type": "stream",
     "text": [
      "Error: '1007 (HY000): Can't create database 'bhoomika_db'; database exists'\n"
     ]
    }
   ],
   "source": [
    "# Create bhoomika_db\n",
    "\n",
    "def create_database(connection, query):\n",
    "    cursor = connection.cursor()\n",
    "    try:\n",
    "        cursor.execute(query)\n",
    "        print(\"Database created successfully\")\n",
    "    except Error as err:\n",
    "        print(f\"Error: '{err}'\")\n",
    "create_database_query = \"Create database bhoomika_db\"\n",
    "create_database(connection , create_database_query)\n",
    "    "
   ]
  },
  {
   "cell_type": "code",
   "execution_count": 25,
   "id": "ecaaec33-457a-4cd6-826a-3d086e724857",
   "metadata": {},
   "outputs": [],
   "source": [
    "#Connect to database\n",
    "\n",
    "def create_db_connection(host_name, user_name, user_password, db_name):\n",
    "    connection = None\n",
    "    try:\n",
    "        connection = mysql.connector.connect(\n",
    "            host = host_name,\n",
    "            user= user_name,\n",
    "            passwd = user_password,\n",
    "            database = db_name\n",
    "        )\n",
    "        print(\"MySQL database connection successfull\")\n",
    "    except  Error as err:\n",
    "        print(f\"Error: '{err}'\")\n",
    "    return connection"
   ]
  },
  {
   "cell_type": "code",
   "execution_count": 26,
   "id": "75bbceb3-cb02-46f7-9ce4-b5479cf2baee",
   "metadata": {},
   "outputs": [],
   "source": [
    "#Execute sql queries\n",
    "\n",
    "def execute_query(connection, query):\n",
    "    cursor = connection.cursor()\n",
    "    try:\n",
    "        cursor.execute(query)\n",
    "        #connection.commit()\n",
    "        print(\"Query was successfull\")\n",
    "    except Error as err:\n",
    "        print(f\"Error: '{err}'\")"
   ]
  },
  {
   "cell_type": "code",
   "execution_count": 27,
   "id": "214d61ce-e73d-40f5-bb99-5ec86aa92450",
   "metadata": {},
   "outputs": [
    {
     "name": "stdout",
     "output_type": "stream",
     "text": [
      "MySQL database connection successfull\n",
      "Error: '1050 (42S01): Table 'orders' already exists'\n"
     ]
    }
   ],
   "source": [
    "create_orders_table = \"\"\"\n",
    "create table orders(\n",
    "order_id int primary key, \n",
    "customer_name  varchar(30) not null, \n",
    "product_name varchar(20) not null, \n",
    "date_ordered date, quantity int, \n",
    "unit_price float, \n",
    "phone_number varchar(20));\n",
    "\"\"\"\n",
    "\n",
    "#connect to the databse\n",
    "connection = create_db_connection(\"localhost\", \"root\", pw, db)\n",
    "execute_query(connection, create_orders_table)"
   ]
  },
  {
   "cell_type": "code",
   "execution_count": 35,
   "id": "fe0aad1d-8b27-45fa-bce5-6765a7922bbf",
   "metadata": {},
   "outputs": [
    {
     "name": "stdout",
     "output_type": "stream",
     "text": [
      "MySQL database connection successfull\n",
      "Query was successfull\n"
     ]
    }
   ],
   "source": [
    "#Insert data\n",
    "\n",
    "data_orders = \"\"\"\n",
    "insert into orders values\n",
    "(101, 'Steve', 'Laptop', '2018-06-12', 2, 800, '6295730802'),\n",
    "(102, 'Jo', 'Books', '2017-02-23', 5, 1800, '6567730802'),\n",
    "(103, 'Stacy', 'T-Shirt', '2018-06-16', 6, 300, '9985730802'),\n",
    "(104, 'Nancy', 'TV', '2020-06-02', 2, 860, '6295730802'),\n",
    "(105, 'Marie', 'Headphones', '2024-06-08', 9, 1800, '6295730802'),\n",
    "(106, 'Bob', 'Mobile', '2020-04-14', 3, 16060, '9057390802');\n",
    "\"\"\"\n",
    "\n",
    "connection = create_db_connection(\"localhost\", \"root\", pw, db)\n",
    "execute_query(connection , data_orders)"
   ]
  },
  {
   "cell_type": "code",
   "execution_count": 36,
   "id": "d258310f-6a19-4259-a7a9-385fb3d62df9",
   "metadata": {},
   "outputs": [],
   "source": [
    "def read_query(connection , query):\n",
    "    cursor = connection.cursor()\n",
    "    result = None\n",
    "    try:\n",
    "        cursor.execute(query)\n",
    "        result = cursor.fetchall()\n",
    "        return result\n",
    "    except Error as err:\n",
    "        print(f\"Error : '{err}'\")"
   ]
  },
  {
   "cell_type": "code",
   "execution_count": 37,
   "id": "9fd98ca8-d56d-4e84-a577-873c526da54f",
   "metadata": {},
   "outputs": [
    {
     "name": "stdout",
     "output_type": "stream",
     "text": [
      "MySQL database connection successfull\n"
     ]
    }
   ],
   "source": [
    "#Using the select stmt\n",
    "\n",
    "q1 = \"\"\"\n",
    "select * from orders;\n",
    "\"\"\"\n",
    "connection = create_db_connection(\"localhost\", \"root\", pw, db)\n",
    "results = read_query(connection, q1)\n",
    "for result in results:\n",
    "    print(result)"
   ]
  },
  {
   "cell_type": "code",
   "execution_count": 38,
   "id": "9c5f8019-869c-4ebb-839c-c5a108cd8aef",
   "metadata": {},
   "outputs": [
    {
     "name": "stdout",
     "output_type": "stream",
     "text": [
      "MySQL database connection successfull\n"
     ]
    }
   ],
   "source": [
    "q2 = \"\"\"\n",
    "select customer_name, phone_number from orders;\n",
    "\"\"\"\n",
    "connection = create_db_connection(\"localhost\", \"root\", pw, db)\n",
    "results = read_query(connection, q2)\n",
    "for result in results:\n",
    "    print(result)"
   ]
  },
  {
   "cell_type": "code",
   "execution_count": 39,
   "id": "05417417-e426-4b64-bbfc-8afb26844c26",
   "metadata": {},
   "outputs": [
    {
     "name": "stdout",
     "output_type": "stream",
     "text": [
      "MySQL database connection successfull\n"
     ]
    }
   ],
   "source": [
    "q3 = \"\"\"\n",
    "select customer_name, phone_number from orders;\n",
    "\"\"\"\n",
    "connection = create_db_connection(\"localhost\", \"root\", pw, db)\n",
    "results = read_query(connection, q2)\n",
    "for result in results:\n",
    "    print(result)\n"
   ]
  },
  {
   "cell_type": "code",
   "execution_count": 40,
   "id": "63603ff2-43d7-4740-8c0d-1a5f17098b5f",
   "metadata": {},
   "outputs": [
    {
     "name": "stdout",
     "output_type": "stream",
     "text": [
      "MySQL database connection successfull\n"
     ]
    }
   ],
   "source": [
    "q4 = \"\"\"\n",
    "select distinct year(date_ordered) from orders;\n",
    "\"\"\"\n",
    "connection = create_db_connection(\"localhost\", \"root\", pw, db)\n",
    "results = read_query(connection, q2)\n",
    "for result in results:\n",
    "    print(result)"
   ]
  },
  {
   "cell_type": "code",
   "execution_count": 41,
   "id": "64ffa130-2545-49fc-9ade-99475233f754",
   "metadata": {},
   "outputs": [
    {
     "data": {
      "text/html": [
       "<div>\n",
       "<style scoped>\n",
       "    .dataframe tbody tr th:only-of-type {\n",
       "        vertical-align: middle;\n",
       "    }\n",
       "\n",
       "    .dataframe tbody tr th {\n",
       "        vertical-align: top;\n",
       "    }\n",
       "\n",
       "    .dataframe thead th {\n",
       "        text-align: right;\n",
       "    }\n",
       "</style>\n",
       "<table border=\"1\" class=\"dataframe\">\n",
       "  <thead>\n",
       "    <tr style=\"text-align: right;\">\n",
       "      <th></th>\n",
       "      <th>order_id</th>\n",
       "      <th>customer_name</th>\n",
       "      <th>product_name</th>\n",
       "      <th>date_ordered</th>\n",
       "      <th>quantity</th>\n",
       "      <th>unit_price</th>\n",
       "      <th>phone_number</th>\n",
       "    </tr>\n",
       "  </thead>\n",
       "  <tbody>\n",
       "  </tbody>\n",
       "</table>\n",
       "</div>"
      ],
      "text/plain": [
       "Empty DataFrame\n",
       "Columns: [order_id, customer_name, product_name, date_ordered, quantity, unit_price, phone_number]\n",
       "Index: []"
      ]
     },
     "metadata": {},
     "output_type": "display_data"
    }
   ],
   "source": [
    "from_db = []\n",
    "\n",
    "for result in results:\n",
    "    result = list(result)\n",
    "    from_db.appends(result)\n",
    "columns = [\"order_id\", \"customer_name\", \"product_name\",\n",
    "           \"date_ordered\", \"quantity\", \"unit_price\", \"phone_number\"]\n",
    "df = pd.DataFrame(from_db, columns=columns)\n",
    "\n",
    "display(df)"
   ]
  },
  {
   "cell_type": "code",
   "execution_count": null,
   "id": "435002fe-fca7-48bb-b084-ba31a0041a3b",
   "metadata": {},
   "outputs": [],
   "source": []
  }
 ],
 "metadata": {
  "kernelspec": {
   "display_name": "Python 3 (ipykernel)",
   "language": "python",
   "name": "python3"
  },
  "language_info": {
   "codemirror_mode": {
    "name": "ipython",
    "version": 3
   },
   "file_extension": ".py",
   "mimetype": "text/x-python",
   "name": "python",
   "nbconvert_exporter": "python",
   "pygments_lexer": "ipython3",
   "version": "3.13.3"
  }
 },
 "nbformat": 4,
 "nbformat_minor": 5
}
